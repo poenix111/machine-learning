{
 "cells": [
  {
   "cell_type": "markdown",
   "id": "147a38bc",
   "metadata": {},
   "source": [
    "# Clothes-Size-Prediction\n",
    "## 1. Problem Definition\n",
    "\n",
    "Context\n",
    "\n",
    "The best way to avoid mistakes in buying clothes through online shops. You can check your predictions using this dataset.\n",
    "\n",
    "Context\n",
    "\n",
    "The best way to avoid mistakes in buying clothes through online shops. You can check your predictions using this dataset\n",
    "\n",
    "Inspiration\n",
    "\n",
    "\n",
    "The most important motivation behind this was to get the size predicted to avoid any problems while buying clothes.\n",
    "Content\n",
    "\n",
    "##  2. Data\n",
    "\n",
    "Data available on Kaggle.  https://www.kaggle.com/tourist55/clothessizeprediction\n",
    "\n",
    "\n",
    "## 3. Evaluation\n",
    "> If we can reach 80% () accuracy at predicting the size of a person during the proof of concept, we'll pursue the project.\n",
    "\n",
    "## 4. Features\n",
    "\n",
    "The Dataset consists of 4 columns:\n",
    "The output parameter is size and input parameters are Weight, Age, and Height.\n",
    "\n",
    "* Weight (in kgs)\n",
    "* Age\n",
    "* Height (in cm)\n",
    "* Size (Target)\n",
    "\n",
    "\n",
    "# Preparing the tools\n",
    "\n"
   ]
  },
  {
   "cell_type": "code",
   "execution_count": 40,
   "id": "757d3dda",
   "metadata": {},
   "outputs": [],
   "source": [
    "\n",
    "# Import all the tools we need\n",
    "\n",
    "# Regular EDA (exploratory data analysis) and plotting libraries\n",
    "import numpy as np\n",
    "import pandas as pd\n",
    "import matplotlib.pyplot as plt\n",
    "import seaborn as sns\n",
    "\n",
    "# we want our plots to appear inside the notebook\n",
    "%matplotlib inline \n",
    "\n",
    "# Models from Scikit-Learn\n",
    "from sklearn.linear_model import LogisticRegression\n",
    "from sklearn.neighbors import KNeighborsClassifier\n",
    "from sklearn.ensemble import RandomForestClassifier\n",
    "\n",
    "# Model Evaluations\n",
    "from sklearn.model_selection import train_test_split, cross_val_score\n",
    "from sklearn.model_selection import RandomizedSearchCV, GridSearchCV\n",
    "from sklearn.metrics import confusion_matrix, classification_report\n",
    "from sklearn.metrics import precision_score, recall_score, f1_score\n",
    "from sklearn.metrics import plot_roc_curve, plot_confusion_matrix\n",
    "\n",
    "\n",
    "plt.style.use('ggplot')"
   ]
  },
  {
   "cell_type": "markdown",
   "id": "2b05ce02",
   "metadata": {},
   "source": [
    "# Load data"
   ]
  },
  {
   "cell_type": "code",
   "execution_count": 2,
   "id": "d6e5f0d3",
   "metadata": {},
   "outputs": [
    {
     "data": {
      "text/html": [
       "<div>\n",
       "<style scoped>\n",
       "    .dataframe tbody tr th:only-of-type {\n",
       "        vertical-align: middle;\n",
       "    }\n",
       "\n",
       "    .dataframe tbody tr th {\n",
       "        vertical-align: top;\n",
       "    }\n",
       "\n",
       "    .dataframe thead th {\n",
       "        text-align: right;\n",
       "    }\n",
       "</style>\n",
       "<table border=\"1\" class=\"dataframe\">\n",
       "  <thead>\n",
       "    <tr style=\"text-align: right;\">\n",
       "      <th></th>\n",
       "      <th>weight</th>\n",
       "      <th>age</th>\n",
       "      <th>height</th>\n",
       "      <th>size</th>\n",
       "    </tr>\n",
       "  </thead>\n",
       "  <tbody>\n",
       "    <tr>\n",
       "      <th>0</th>\n",
       "      <td>62</td>\n",
       "      <td>28.0</td>\n",
       "      <td>172.72</td>\n",
       "      <td>XL</td>\n",
       "    </tr>\n",
       "    <tr>\n",
       "      <th>1</th>\n",
       "      <td>59</td>\n",
       "      <td>36.0</td>\n",
       "      <td>167.64</td>\n",
       "      <td>L</td>\n",
       "    </tr>\n",
       "    <tr>\n",
       "      <th>2</th>\n",
       "      <td>61</td>\n",
       "      <td>34.0</td>\n",
       "      <td>165.10</td>\n",
       "      <td>M</td>\n",
       "    </tr>\n",
       "    <tr>\n",
       "      <th>3</th>\n",
       "      <td>65</td>\n",
       "      <td>27.0</td>\n",
       "      <td>175.26</td>\n",
       "      <td>L</td>\n",
       "    </tr>\n",
       "    <tr>\n",
       "      <th>4</th>\n",
       "      <td>62</td>\n",
       "      <td>45.0</td>\n",
       "      <td>172.72</td>\n",
       "      <td>M</td>\n",
       "    </tr>\n",
       "  </tbody>\n",
       "</table>\n",
       "</div>"
      ],
      "text/plain": [
       "   weight   age  height size\n",
       "0      62  28.0  172.72   XL\n",
       "1      59  36.0  167.64    L\n",
       "2      61  34.0  165.10    M\n",
       "3      65  27.0  175.26    L\n",
       "4      62  45.0  172.72    M"
      ]
     },
     "execution_count": 2,
     "metadata": {},
     "output_type": "execute_result"
    }
   ],
   "source": [
    "df = pd.read_csv('data/final_test.csv')\n",
    "df.head()"
   ]
  },
  {
   "cell_type": "code",
   "execution_count": 3,
   "id": "b982d3d3",
   "metadata": {},
   "outputs": [
    {
     "data": {
      "text/plain": [
       "weight      0\n",
       "age       257\n",
       "height    330\n",
       "size        0\n",
       "dtype: int64"
      ]
     },
     "execution_count": 3,
     "metadata": {},
     "output_type": "execute_result"
    }
   ],
   "source": [
    "df.isna().sum()"
   ]
  },
  {
   "cell_type": "markdown",
   "id": "dbb1157d",
   "metadata": {},
   "source": [
    "### replace NaN with mean"
   ]
  },
  {
   "cell_type": "code",
   "execution_count": 4,
   "id": "bc42ccaf",
   "metadata": {},
   "outputs": [
    {
     "data": {
      "text/plain": [
       "weight    0\n",
       "age       0\n",
       "height    0\n",
       "size      0\n",
       "dtype: int64"
      ]
     },
     "execution_count": 4,
     "metadata": {},
     "output_type": "execute_result"
    }
   ],
   "source": [
    "df['age'].fillna(df['age'].mean(), inplace=True)\n",
    "df['height'].fillna(df['height'].mean(), inplace=True)\n",
    "df.isna().sum()"
   ]
  },
  {
   "cell_type": "code",
   "execution_count": 5,
   "id": "df4b22b5",
   "metadata": {},
   "outputs": [
    {
     "data": {
      "text/plain": [
       "M       29712\n",
       "S       21924\n",
       "XXXL    21359\n",
       "XL      19119\n",
       "L       17587\n",
       "XXS      9964\n",
       "XXL        69\n",
       "Name: size, dtype: int64"
      ]
     },
     "execution_count": 5,
     "metadata": {},
     "output_type": "execute_result"
    }
   ],
   "source": [
    "df['size'].value_counts()"
   ]
  },
  {
   "cell_type": "code",
   "execution_count": 6,
   "id": "7ffef28d",
   "metadata": {},
   "outputs": [
    {
     "data": {
      "image/png": "[encoded data removed]",
      "text/plain": [
       "<Figure size 432x288 with 1 Axes>"
      ]
     },
     "metadata": {},
     "output_type": "display_data"
    }
   ],
   "source": [
    "sns.boxplot(data=df['age']);"
   ]
  },
  {
   "cell_type": "code",
   "execution_count": 7,
   "id": "9d8011d0",
   "metadata": {},
   "outputs": [
    {
     "data": {
      "text/plain": [
       "Text(0, 0.5, 'Amount')"
      ]
     },
     "execution_count": 7,
     "metadata": {},
     "output_type": "execute_result"
    },
    {
     "data": {
      "image/png": "[encoded data removed]",
      "text/plain": [
       "<Figure size 432x288 with 1 Axes>"
      ]
     },
     "metadata": {},
     "output_type": "display_data"
    }
   ],
   "source": [
    "df['size'].value_counts().plot(kind='bar')\n",
    "plt.title('Samples')\n",
    "plt.xlabel('Sizes')\n",
    "plt.ylabel('Amount')"
   ]
  },
  {
   "cell_type": "code",
   "execution_count": 8,
   "id": "e551d586",
   "metadata": {},
   "outputs": [
    {
     "data": {
      "text/plain": [
       "['XL', 'L', 'M', 'S', 'XXS', 'XXXL', 'XXL']"
      ]
     },
     "execution_count": 8,
     "metadata": {},
     "output_type": "execute_result"
    }
   ],
   "source": [
    "list(df['size'].unique())"
   ]
  },
  {
   "cell_type": "code",
   "execution_count": 9,
   "id": "1fc5e199",
   "metadata": {},
   "outputs": [
    {
     "data": {
      "text/plain": [
       "<matplotlib.legend.Legend at 0x237a0658550>"
      ]
     },
     "execution_count": 9,
     "metadata": {},
     "output_type": "execute_result"
    },
    {
     "data": {
      "image/png": "[encoded data removed]",
      "text/plain": [
       "<Figure size 1080x576 with 1 Axes>"
      ]
     },
     "metadata": {},
     "output_type": "display_data"
    }
   ],
   "source": [
    "# if i want to graph all the targets values, I need to do a for to iter them and graph\n",
    "fig, ax = plt.subplots(figsize=(15,8))\n",
    "for k in list(df['size'].unique()):\n",
    "    series = df[df['size'] == k]\n",
    "    scat = ax.scatter(series['weight'], series['height'], label=k)\n",
    "plt.xlabel('weight')\n",
    "plt.ylabel('height')\n",
    "plt.title('Weight vs Height By Size')\n",
    "plt.legend()"
   ]
  },
  {
   "cell_type": "code",
   "execution_count": 10,
   "id": "770bae5f",
   "metadata": {},
   "outputs": [
    {
     "data": {
      "text/plain": [
       "30.0    8816\n",
       "31.0    8777\n",
       "29.0    8358\n",
       "32.0    8268\n",
       "28.0    7302\n",
       "        ... \n",
       "81.0       1\n",
       "92.0       1\n",
       "1.0        1\n",
       "9.0        1\n",
       "85.0       1\n",
       "Name: age, Length: 83, dtype: int64"
      ]
     },
     "execution_count": 10,
     "metadata": {},
     "output_type": "execute_result"
    }
   ],
   "source": [
    "df['age'].value_counts()"
   ]
  },
  {
   "cell_type": "code",
   "execution_count": 11,
   "id": "ad53e498",
   "metadata": {},
   "outputs": [
    {
     "data": {
      "text/plain": [
       "<AxesSubplot:ylabel='Frequency'>"
      ]
     },
     "execution_count": 11,
     "metadata": {},
     "output_type": "execute_result"
    },
    {
     "data": {
      "image/png": "[encoded data removed]",
      "text/plain": [
       "<Figure size 432x288 with 1 Axes>"
      ]
     },
     "metadata": {},
     "output_type": "display_data"
    }
   ],
   "source": [
    "df['age'].plot.hist()"
   ]
  },
  {
   "cell_type": "code",
   "execution_count": 12,
   "id": "6aca3a10",
   "metadata": {},
   "outputs": [
    {
     "name": "stdout",
     "output_type": "stream",
     "text": [
      "<class 'pandas.core.frame.DataFrame'>\n",
      "RangeIndex: 119734 entries, 0 to 119733\n",
      "Data columns (total 4 columns):\n",
      " #   Column  Non-Null Count   Dtype  \n",
      "---  ------  --------------   -----  \n",
      " 0   weight  119734 non-null  int64  \n",
      " 1   age     119734 non-null  float64\n",
      " 2   height  119734 non-null  float64\n",
      " 3   size    119734 non-null  object \n",
      "dtypes: float64(2), int64(1), object(1)\n",
      "memory usage: 3.7+ MB\n"
     ]
    }
   ],
   "source": [
    "df.info()"
   ]
  },
  {
   "cell_type": "code",
   "execution_count": 13,
   "id": "5bd13db8",
   "metadata": {},
   "outputs": [
    {
     "data": {
      "text/html": [
       "<div>\n",
       "<style scoped>\n",
       "    .dataframe tbody tr th:only-of-type {\n",
       "        vertical-align: middle;\n",
       "    }\n",
       "\n",
       "    .dataframe tbody tr th {\n",
       "        vertical-align: top;\n",
       "    }\n",
       "\n",
       "    .dataframe thead th {\n",
       "        text-align: right;\n",
       "    }\n",
       "</style>\n",
       "<table border=\"1\" class=\"dataframe\">\n",
       "  <thead>\n",
       "    <tr style=\"text-align: right;\">\n",
       "      <th></th>\n",
       "      <th>weight</th>\n",
       "      <th>age</th>\n",
       "      <th>height</th>\n",
       "    </tr>\n",
       "  </thead>\n",
       "  <tbody>\n",
       "    <tr>\n",
       "      <th>count</th>\n",
       "      <td>119734.000000</td>\n",
       "      <td>119734.000000</td>\n",
       "      <td>119734.000000</td>\n",
       "    </tr>\n",
       "    <tr>\n",
       "      <th>mean</th>\n",
       "      <td>61.756811</td>\n",
       "      <td>34.027311</td>\n",
       "      <td>165.805794</td>\n",
       "    </tr>\n",
       "    <tr>\n",
       "      <th>std</th>\n",
       "      <td>9.944863</td>\n",
       "      <td>8.140696</td>\n",
       "      <td>6.728360</td>\n",
       "    </tr>\n",
       "    <tr>\n",
       "      <th>min</th>\n",
       "      <td>22.000000</td>\n",
       "      <td>0.000000</td>\n",
       "      <td>137.160000</td>\n",
       "    </tr>\n",
       "    <tr>\n",
       "      <th>25%</th>\n",
       "      <td>55.000000</td>\n",
       "      <td>29.000000</td>\n",
       "      <td>160.020000</td>\n",
       "    </tr>\n",
       "    <tr>\n",
       "      <th>50%</th>\n",
       "      <td>61.000000</td>\n",
       "      <td>32.000000</td>\n",
       "      <td>165.100000</td>\n",
       "    </tr>\n",
       "    <tr>\n",
       "      <th>75%</th>\n",
       "      <td>67.000000</td>\n",
       "      <td>37.000000</td>\n",
       "      <td>170.180000</td>\n",
       "    </tr>\n",
       "    <tr>\n",
       "      <th>max</th>\n",
       "      <td>136.000000</td>\n",
       "      <td>117.000000</td>\n",
       "      <td>193.040000</td>\n",
       "    </tr>\n",
       "  </tbody>\n",
       "</table>\n",
       "</div>"
      ],
      "text/plain": [
       "              weight            age         height\n",
       "count  119734.000000  119734.000000  119734.000000\n",
       "mean       61.756811      34.027311     165.805794\n",
       "std         9.944863       8.140696       6.728360\n",
       "min        22.000000       0.000000     137.160000\n",
       "25%        55.000000      29.000000     160.020000\n",
       "50%        61.000000      32.000000     165.100000\n",
       "75%        67.000000      37.000000     170.180000\n",
       "max       136.000000     117.000000     193.040000"
      ]
     },
     "execution_count": 13,
     "metadata": {},
     "output_type": "execute_result"
    }
   ],
   "source": [
    "df.describe()"
   ]
  },
  {
   "cell_type": "code",
   "execution_count": 14,
   "id": "e122a8de",
   "metadata": {},
   "outputs": [
    {
     "data": {
      "text/html": [
       "<div>\n",
       "<style scoped>\n",
       "    .dataframe tbody tr th:only-of-type {\n",
       "        vertical-align: middle;\n",
       "    }\n",
       "\n",
       "    .dataframe tbody tr th {\n",
       "        vertical-align: top;\n",
       "    }\n",
       "\n",
       "    .dataframe thead th {\n",
       "        text-align: right;\n",
       "    }\n",
       "</style>\n",
       "<table border=\"1\" class=\"dataframe\">\n",
       "  <thead>\n",
       "    <tr style=\"text-align: right;\">\n",
       "      <th></th>\n",
       "      <th>weight</th>\n",
       "      <th>age</th>\n",
       "      <th>height</th>\n",
       "    </tr>\n",
       "  </thead>\n",
       "  <tbody>\n",
       "    <tr>\n",
       "      <th>weight</th>\n",
       "      <td>1.000000</td>\n",
       "      <td>0.067878</td>\n",
       "      <td>0.387792</td>\n",
       "    </tr>\n",
       "    <tr>\n",
       "      <th>age</th>\n",
       "      <td>0.067878</td>\n",
       "      <td>1.000000</td>\n",
       "      <td>-0.003036</td>\n",
       "    </tr>\n",
       "    <tr>\n",
       "      <th>height</th>\n",
       "      <td>0.387792</td>\n",
       "      <td>-0.003036</td>\n",
       "      <td>1.000000</td>\n",
       "    </tr>\n",
       "  </tbody>\n",
       "</table>\n",
       "</div>"
      ],
      "text/plain": [
       "          weight       age    height\n",
       "weight  1.000000  0.067878  0.387792\n",
       "age     0.067878  1.000000 -0.003036\n",
       "height  0.387792 -0.003036  1.000000"
      ]
     },
     "execution_count": 14,
     "metadata": {},
     "output_type": "execute_result"
    }
   ],
   "source": [
    "corr_matrix = df.corr()\n",
    "corr_matrix"
   ]
  },
  {
   "cell_type": "code",
   "execution_count": 15,
   "id": "a8a36e78",
   "metadata": {},
   "outputs": [
    {
     "data": {
      "image/png": "[encoded data removed]",
      "text/plain": [
       "<Figure size 576x360 with 2 Axes>"
      ]
     },
     "metadata": {},
     "output_type": "display_data"
    }
   ],
   "source": [
    "fig, ax = plt.subplots(figsize=(8, 5))\n",
    "ax = sns.heatmap(corr_matrix,\n",
    "                 annot=True,\n",
    "                 linewidths=0.5,\n",
    "                 fmt=\".2f\",\n",
    "                 cmap=\"YlGnBu\");\n"
   ]
  },
  {
   "cell_type": "markdown",
   "id": "26a4560d",
   "metadata": {},
   "source": [
    "# 5. Modelling"
   ]
  },
  {
   "cell_type": "code",
   "execution_count": 16,
   "id": "d9e7fb04",
   "metadata": {},
   "outputs": [
    {
     "data": {
      "text/html": [
       "<div>\n",
       "<style scoped>\n",
       "    .dataframe tbody tr th:only-of-type {\n",
       "        vertical-align: middle;\n",
       "    }\n",
       "\n",
       "    .dataframe tbody tr th {\n",
       "        vertical-align: top;\n",
       "    }\n",
       "\n",
       "    .dataframe thead th {\n",
       "        text-align: right;\n",
       "    }\n",
       "</style>\n",
       "<table border=\"1\" class=\"dataframe\">\n",
       "  <thead>\n",
       "    <tr style=\"text-align: right;\">\n",
       "      <th></th>\n",
       "      <th>weight</th>\n",
       "      <th>age</th>\n",
       "      <th>height</th>\n",
       "      <th>size</th>\n",
       "    </tr>\n",
       "  </thead>\n",
       "  <tbody>\n",
       "    <tr>\n",
       "      <th>0</th>\n",
       "      <td>62</td>\n",
       "      <td>28.0</td>\n",
       "      <td>172.72</td>\n",
       "      <td>XL</td>\n",
       "    </tr>\n",
       "    <tr>\n",
       "      <th>1</th>\n",
       "      <td>59</td>\n",
       "      <td>36.0</td>\n",
       "      <td>167.64</td>\n",
       "      <td>L</td>\n",
       "    </tr>\n",
       "    <tr>\n",
       "      <th>2</th>\n",
       "      <td>61</td>\n",
       "      <td>34.0</td>\n",
       "      <td>165.10</td>\n",
       "      <td>M</td>\n",
       "    </tr>\n",
       "    <tr>\n",
       "      <th>3</th>\n",
       "      <td>65</td>\n",
       "      <td>27.0</td>\n",
       "      <td>175.26</td>\n",
       "      <td>L</td>\n",
       "    </tr>\n",
       "    <tr>\n",
       "      <th>4</th>\n",
       "      <td>62</td>\n",
       "      <td>45.0</td>\n",
       "      <td>172.72</td>\n",
       "      <td>M</td>\n",
       "    </tr>\n",
       "  </tbody>\n",
       "</table>\n",
       "</div>"
      ],
      "text/plain": [
       "   weight   age  height size\n",
       "0      62  28.0  172.72   XL\n",
       "1      59  36.0  167.64    L\n",
       "2      61  34.0  165.10    M\n",
       "3      65  27.0  175.26    L\n",
       "4      62  45.0  172.72    M"
      ]
     },
     "execution_count": 16,
     "metadata": {},
     "output_type": "execute_result"
    }
   ],
   "source": [
    "df.head()"
   ]
  },
  {
   "cell_type": "code",
   "execution_count": 17,
   "id": "13206fce",
   "metadata": {},
   "outputs": [],
   "source": [
    "X = df.drop('size', axis=1)\n",
    "y = df['size']"
   ]
  },
  {
   "cell_type": "code",
   "execution_count": 18,
   "id": "d0de5a1f",
   "metadata": {},
   "outputs": [],
   "source": [
    "models = {\n",
    "    'LogisticRegresion': LogisticRegression(),\n",
    "    'KNN' : KNeighborsClassifier(),\n",
    "    'RandomForestClassifier': RandomForestClassifier()\n",
    "}"
   ]
  },
  {
   "cell_type": "code",
   "execution_count": 19,
   "id": "33712f1f",
   "metadata": {},
   "outputs": [
    {
     "name": "stderr",
     "output_type": "stream",
     "text": [
      "D:\\Learning\\ml\\size-prediction-project\\env\\lib\\site-packages\\sklearn\\linear_model\\_logistic.py:763: ConvergenceWarning: lbfgs failed to converge (status=1):\n",
      "STOP: TOTAL NO. of ITERATIONS REACHED LIMIT.\n",
      "\n",
      "Increase the number of iterations (max_iter) or scale the data as shown in:\n",
      "    https://scikit-learn.org/stable/modules/preprocessing.html\n",
      "Please also refer to the documentation for alternative solver options:\n",
      "    https://scikit-learn.org/stable/modules/linear_model.html#logistic-regression\n",
      "  n_iter_i = _check_optimize_result(\n"
     ]
    },
    {
     "name": "stdout",
     "output_type": "stream",
     "text": [
      "Model LogisticRegresion with score: 0.49286967052240366\n",
      "Model KNN with score: 0.46242744393869795\n",
      "Model RandomForestClassifier with score: 0.4814068568087861\n"
     ]
    }
   ],
   "source": [
    "np.random.seed(42)\n",
    "\n",
    "X_train, X_test, y_train, y_test = train_test_split(X, y, train_size=0.2)\n",
    "baseline_models_score = {}\n",
    "for name, model in models.items():\n",
    "    model.fit(X_train, y_train)\n",
    "    score = model.score(X_test, y_test)\n",
    "    baseline_models_score[name] = score\n",
    "    print(f'Model {name} with score: {score}')"
   ]
  },
  {
   "cell_type": "code",
   "execution_count": 20,
   "id": "199e0573",
   "metadata": {},
   "outputs": [
    {
     "data": {
      "text/plain": [
       "{'LogisticRegresion': 0.49286967052240366,\n",
       " 'KNN': 0.46242744393869795,\n",
       " 'RandomForestClassifier': 0.4814068568087861}"
      ]
     },
     "execution_count": 20,
     "metadata": {},
     "output_type": "execute_result"
    }
   ],
   "source": [
    "baseline_models_score"
   ]
  },
  {
   "cell_type": "code",
   "execution_count": 21,
   "id": "8343867e",
   "metadata": {},
   "outputs": [
    {
     "data": {
      "image/png": "[encoded data removed]",
      "text/plain": [
       "<Figure size 432x288 with 1 Axes>"
      ]
     },
     "metadata": {},
     "output_type": "display_data"
    }
   ],
   "source": [
    "model_compare = pd.DataFrame(baseline_models_score, index=[\"accuracy\"])\n",
    "model_compare.T.plot.bar();\n",
    "plt.yticks(np.arange(0,1.1,0.1));"
   ]
  },
  {
   "cell_type": "markdown",
   "id": "6bc9dfca",
   "metadata": {},
   "source": [
    "    # Tunning models"
   ]
  },
  {
   "cell_type": "code",
   "execution_count": 29,
   "id": "1357aefe",
   "metadata": {},
   "outputs": [],
   "source": [
    "# LOGISTIC REGRESSION GRID\n",
    "log_reg_grid = {\"C\": np.logspace(-4, 4, 20),\n",
    "                \"solver\": [\"liblinear\"]}\n",
    "\n",
    "# Create a hyperparameter grid for RandomForestClassifier\n",
    "rf_grid = {\"n_estimators\": np.arange(10, 200, 50),\n",
    "           \"max_depth\": [None, 3, 5, 10],\n",
    "           \"min_samples_split\": [2,4],\n",
    "           \"min_samples_leaf\": [2,4,]}"
   ]
  },
  {
   "cell_type": "markdown",
   "id": "6ae9a5be",
   "metadata": {},
   "source": [
    "# 1. LogisticRegression"
   ]
  },
  {
   "cell_type": "markdown",
   "id": "9babcaca",
   "metadata": {},
   "source": [
    "## RandomizedSearchCV"
   ]
  },
  {
   "cell_type": "code",
   "execution_count": 23,
   "id": "eed613a0",
   "metadata": {},
   "outputs": [
    {
     "name": "stdout",
     "output_type": "stream",
     "text": [
      "Fitting 5 folds for each of 20 candidates, totalling 100 fits\n"
     ]
    },
    {
     "data": {
      "text/plain": [
       "0.46964129118469955"
      ]
     },
     "execution_count": 23,
     "metadata": {},
     "output_type": "execute_result"
    }
   ],
   "source": [
    "\n",
    "np.random.seed(42)\n",
    "\n",
    "# Setup random hyperparameter search for LogisticRegression\n",
    "rs_log_reg = RandomizedSearchCV(LogisticRegression(),\n",
    "                                param_distributions=log_reg_grid,\n",
    "                                cv=5,\n",
    "                                n_iter=20,\n",
    "                                verbose=True)\n",
    "\n",
    "rs_log_reg.fit(X_train, y_train)\n",
    "\n",
    "rs_log_reg.score(X_test, y_test)"
   ]
  },
  {
   "cell_type": "markdown",
   "id": "69b70686",
   "metadata": {},
   "source": [
    "## GridSearchCV"
   ]
  },
  {
   "cell_type": "code",
   "execution_count": 24,
   "id": "8cda8d86",
   "metadata": {},
   "outputs": [
    {
     "name": "stdout",
     "output_type": "stream",
     "text": [
      "Fitting 5 folds for each of 20 candidates, totalling 100 fits\n"
     ]
    },
    {
     "data": {
      "text/plain": [
       "GridSearchCV(cv=5, estimator=LogisticRegression(),\n",
       "             param_grid={'C': array([1.00000000e-04, 2.63665090e-04, 6.95192796e-04, 1.83298071e-03,\n",
       "       4.83293024e-03, 1.27427499e-02, 3.35981829e-02, 8.85866790e-02,\n",
       "       2.33572147e-01, 6.15848211e-01, 1.62377674e+00, 4.28133240e+00,\n",
       "       1.12883789e+01, 2.97635144e+01, 7.84759970e+01, 2.06913808e+02,\n",
       "       5.45559478e+02, 1.43844989e+03, 3.79269019e+03, 1.00000000e+04]),\n",
       "                         'solver': ['liblinear']},\n",
       "             verbose=True)"
      ]
     },
     "execution_count": 24,
     "metadata": {},
     "output_type": "execute_result"
    }
   ],
   "source": [
    "np.random.seed(42)\n",
    "grid_log_reg = GridSearchCV(LogisticRegression(), param_grid=log_reg_grid, cv=5, verbose=True)\n",
    "grid_log_reg.fit(X_train,y_train)"
   ]
  },
  {
   "cell_type": "code",
   "execution_count": 25,
   "id": "8a1a69a1",
   "metadata": {},
   "outputs": [
    {
     "data": {
      "text/plain": [
       "0.46964129118469955"
      ]
     },
     "execution_count": 25,
     "metadata": {},
     "output_type": "execute_result"
    }
   ],
   "source": [
    "grid_log_reg.score(X_test, y_test)"
   ]
  },
  {
   "cell_type": "markdown",
   "id": "dd9b66c0",
   "metadata": {},
   "source": [
    "# KNN tunning"
   ]
  },
  {
   "cell_type": "code",
   "execution_count": 26,
   "id": "bd865d9b",
   "metadata": {},
   "outputs": [
    {
     "name": "stdout",
     "output_type": "stream",
     "text": [
      "Fitting 5 folds for each of 10 candidates, totalling 50 fits\n"
     ]
    },
    {
     "data": {
      "text/plain": [
       "RandomizedSearchCV(estimator=KNeighborsClassifier(),\n",
       "                   param_distributions={'n_neighbors': range(1, 21)},\n",
       "                   verbose=True)"
      ]
     },
     "execution_count": 26,
     "metadata": {},
     "output_type": "execute_result"
    }
   ],
   "source": [
    "neighbors = range(1, 21)\n",
    "params = {'n_neighbors': neighbors}\n",
    "rs_knn = RandomizedSearchCV(KNeighborsClassifier(), param_distributions=params, verbose=True)\n",
    "rs_knn.fit(X_train, y_train)"
   ]
  },
  {
   "cell_type": "code",
   "execution_count": 27,
   "id": "f5586f0e",
   "metadata": {},
   "outputs": [
    {
     "data": {
      "text/plain": [
       "{'n_neighbors': 20}"
      ]
     },
     "execution_count": 27,
     "metadata": {},
     "output_type": "execute_result"
    }
   ],
   "source": [
    "rs_knn.best_params_"
   ]
  },
  {
   "cell_type": "code",
   "execution_count": 30,
   "id": "9632a3bc",
   "metadata": {},
   "outputs": [
    {
     "data": {
      "text/plain": [
       "0.49547960078506703"
      ]
     },
     "execution_count": 30,
     "metadata": {},
     "output_type": "execute_result"
    }
   ],
   "source": [
    "rs_knn.score(X_test, y_test)"
   ]
  },
  {
   "cell_type": "markdown",
   "id": "3cdb1a37",
   "metadata": {},
   "source": [
    "## RANDOM FOREST CLASSIFIER"
   ]
  },
  {
   "cell_type": "markdown",
   "id": "2228f8ae",
   "metadata": {},
   "source": [
    "## RandomSearchCV"
   ]
  },
  {
   "cell_type": "code",
   "execution_count": 31,
   "id": "f9f46608",
   "metadata": {},
   "outputs": [
    {
     "name": "stdout",
     "output_type": "stream",
     "text": [
      "Fitting 5 folds for each of 10 candidates, totalling 50 fits\n"
     ]
    },
    {
     "data": {
      "text/plain": [
       "0.5128930554975571"
      ]
     },
     "execution_count": 31,
     "metadata": {},
     "output_type": "execute_result"
    }
   ],
   "source": [
    "rs_rf = RandomizedSearchCV(RandomForestClassifier(), param_distributions=rf_grid, verbose=True)\n",
    "rs_rf.fit(X_train, y_train)\n",
    "rs_rf.score(X_test, y_test)"
   ]
  },
  {
   "cell_type": "code",
   "execution_count": 32,
   "id": "bd8b8c1c",
   "metadata": {},
   "outputs": [
    {
     "data": {
      "text/plain": [
       "{'n_estimators': 110,\n",
       " 'min_samples_split': 4,\n",
       " 'min_samples_leaf': 2,\n",
       " 'max_depth': 10}"
      ]
     },
     "execution_count": 32,
     "metadata": {},
     "output_type": "execute_result"
    }
   ],
   "source": [
    "rs_rf.best_params_"
   ]
  },
  {
   "cell_type": "markdown",
   "id": "64bfdb4e",
   "metadata": {},
   "source": [
    "## GridSearchCVC"
   ]
  },
  {
   "cell_type": "code",
   "execution_count": 33,
   "id": "4881f1e1",
   "metadata": {
    "scrolled": true
   },
   "outputs": [
    {
     "name": "stdout",
     "output_type": "stream",
     "text": [
      "Fitting 5 folds for each of 64 candidates, totalling 320 fits\n"
     ]
    },
    {
     "data": {
      "text/plain": [
       "0.5133837223869379"
      ]
     },
     "execution_count": 33,
     "metadata": {},
     "output_type": "execute_result"
    }
   ],
   "source": [
    "gs_rf = GridSearchCV(RandomForestClassifier(), param_grid=rf_grid, verbose=True)\n",
    "gs_rf.fit(X_train, y_train)\n",
    "gs_rf.score(X_test, y_test)"
   ]
  },
  {
   "cell_type": "code",
   "execution_count": 34,
   "id": "9083f424",
   "metadata": {},
   "outputs": [
    {
     "data": {
      "text/plain": [
       "{'max_depth': 10,\n",
       " 'min_samples_leaf': 2,\n",
       " 'min_samples_split': 2,\n",
       " 'n_estimators': 60}"
      ]
     },
     "execution_count": 34,
     "metadata": {},
     "output_type": "execute_result"
    }
   ],
   "source": [
    "gs_rf.best_params_"
   ]
  },
  {
   "cell_type": "markdown",
   "id": "98e5850f",
   "metadata": {},
   "source": [
    "### USING GS_RF FOR METRICS"
   ]
  },
  {
   "cell_type": "code",
   "execution_count": 35,
   "id": "764a8039",
   "metadata": {},
   "outputs": [],
   "source": [
    "y_preds =gs_rf.predict(X_test)"
   ]
  },
  {
   "cell_type": "code",
   "execution_count": 36,
   "id": "ac6a867a",
   "metadata": {},
   "outputs": [
    {
     "data": {
      "text/plain": [
       "array([[ 2684,  6502,   472,  3595,     0,    32,   761],\n",
       "       [ 1943, 15173,  4517,  1476,     0,   345,   240],\n",
       "       [  244,  6209,  9014,   135,     0,  1846,    54],\n",
       "       [ 2226,  3440,   221,  6204,     0,    16,  3186],\n",
       "       [    7,     5,     1,    16,     0,     0,    28],\n",
       "       [   18,   737,  4266,    14,     0,  3004,    11],\n",
       "       [  502,   472,    48,  3011,     0,    16, 13097]], dtype=int64)"
      ]
     },
     "execution_count": 36,
     "metadata": {},
     "output_type": "execute_result"
    }
   ],
   "source": [
    "confusion_matrix(y_test, y_preds)"
   ]
  },
  {
   "cell_type": "code",
   "execution_count": 43,
   "id": "9858250a",
   "metadata": {},
   "outputs": [
    {
     "data": {
      "text/plain": [
       "<sklearn.metrics._plot.confusion_matrix.ConfusionMatrixDisplay at 0x237b69786d0>"
      ]
     },
     "execution_count": 43,
     "metadata": {},
     "output_type": "execute_result"
    },
    {
     "data": {
      "image/png": "[encoded data removed]",
      "text/plain": [
       "<Figure size 1080x576 with 2 Axes>"
      ]
     },
     "metadata": {},
     "output_type": "display_data"
    }
   ],
   "source": [
    "fig, ax = plt.subplots(figsize=(15,8))\n",
    "plot_confusion_matrix(gs_rf, X_test, y_test, ax=ax)"
   ]
  },
  {
   "cell_type": "code",
   "execution_count": 46,
   "id": "c473fcef",
   "metadata": {},
   "outputs": [
    {
     "name": "stdout",
     "output_type": "stream",
     "text": [
      "              precision    recall  f1-score   support\n",
      "\n",
      "           L       0.35      0.19      0.25     14046\n",
      "           M       0.47      0.64      0.54     23694\n",
      "           S       0.49      0.52      0.50     17502\n",
      "          XL       0.43      0.41      0.42     15293\n",
      "         XXL       0.00      0.00      0.00        57\n",
      "         XXS       0.57      0.37      0.45      8050\n",
      "        XXXL       0.75      0.76      0.76     17146\n",
      "\n",
      "    accuracy                           0.51     95788\n",
      "   macro avg       0.44      0.41      0.42     95788\n",
      "weighted avg       0.51      0.51      0.50     95788\n",
      "\n"
     ]
    }
   ],
   "source": [
    "print(classification_report(y_test,y_preds, zero_division=False))"
   ]
  }
 ],
 "metadata": {
  "kernelspec": {
   "display_name": "Python 3",
   "language": "python",
   "name": "python3"
  },
  "language_info": {
   "codemirror_mode": {
    "name": "ipython",
    "version": 3
   },
   "file_extension": ".py",
   "mimetype": "text/x-python",
   "name": "python",
   "nbconvert_exporter": "python",
   "pygments_lexer": "ipython3",
   "version": "3.9.5"
  }
 },
 "nbformat": 4,
 "nbformat_minor": 5
}
